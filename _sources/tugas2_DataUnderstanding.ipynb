{
  "nbformat": 4,
  "nbformat_minor": 0,
  "metadata": {
    "colab": {
      "provenance": []
    },
    "kernelspec": {
      "name": "python3",
      "display_name": "Python 3"
    },
    "language_info": {
      "name": "python"
    }
  },
  "cells": [
    {
      "cell_type": "markdown",
      "source": [
        "# **Tugas 2 data_understanding**\n",
        "## **Penjelasan Outlier Deteksi**\n",
        "### **Mendeteksi Outlier Menggunakan K-Nearest Neighbors (KNN) dalam Analisis Data**  \n",
        "#### 1. Pengenalan Outlier dalam Analisis Data\n",
        "Outlier adalah data yang memiliki nilai yang sangat berbeda dibandingkan dengan sebagian besar data lainnya dalam suatu dataset. Outlier dapat muncul karena berbagai faktor, seperti kesalahan pengukuran, kesalahan saat memasukkan data, atau fenomena yang jarang terjadi. Dalam tahap pemahaman data, penting untuk mengidentifikasi outlier karena keberadaannya dapat berdampak pada hasil analisis, pemodelan, serta pengambilan keputusan. Jika tidak terdeteksi, outlier dapat menyebabkan model analisis statistik atau machine learning menjadi kurang akurat, bias, atau bahkan gagal menghasilkan prediksi yang valid.\n",
        "\n",
        "#### 2. Pendekatan K-Nearest Neighbors (KNN) dalam Mendeteksi Outlier\n",
        "Salah satu metode yang dapat digunakan untuk mendeteksi outlier adalah K-Nearest Neighbors (KNN). Algoritma ini bekerja berdasarkan prinsip bahwa sebagian besar data normal akan berada dalam kelompok yang padat, sementara outlier cenderung berada jauh dari kelompok utama. Berikut adalah cara kerja dasar KNN dalam mendeteksi outlier:\n",
        "\n",
        "\n",
        "*   Mekanisme Kerja KNN:\n",
        "\n",
        "\n",
        "\n",
        "KNN menghitung jarak antara satu titik data dengan titik-titik data di sekitarnya. Jika suatu titik memiliki jarak yang cukup jauh dari sebagian besar tetangganya, maka titik tersebut bisa dianggap sebagai outlier. Secara matematis, KNN mengukur jarak menggunakan berbagai metode seperti Euclidean, Manhattan, atau Minkowski untuk menentukan k-tetangga terdekat. Jika rata-rata jarak ke k-tetangga lebih besar dari nilai ambang tertentu, maka titik tersebut dikategorikan sebagai outlier.\n",
        "\n",
        "#### Kapan Menggunakan KNN untuk Deteksi Outlier?\n",
        "KNN merupakan metode yang berguna dalam mendeteksi outlier dalam beberapa kondisi berikut\n",
        "\n",
        "Data dengan Dimensi Tinggi: KNN mampu bekerja pada dataset dengan banyak fitur, meskipun kinerjanya dapat menurun jika jumlah dimensi terlalu besar akibat efek \"curse of dimensionality\".\n",
        "\n",
        "Data Tanpa Distribusi Tertentu: Algoritma ini tidak memerlukan asumsi tentang distribusi data, sehingga cocok digunakan pada dataset yang tidak mengikuti distribusi normal atau tertentu.\n",
        "\n",
        "Dataset Berukuran Sedang: KNN lebih optimal digunakan pada dataset yang tidak terlalu besar karena kompleksitas komputasi meningkat seiring bertambahnya jumlah data. Jika dataset terlalu besar, metode lain seperti Local Outlier Factor (LOF) atau Isolation Forest bisa menjadi pilihan yang lebih efisien.\n",
        "\n",
        "\n",
        "#### Kesimpulan\n",
        "K-Nearest Neighbors (KNN) adalah metode yang cukup efektif dalam mengidentifikasi outlier, terutama pada tahap eksplorasi data. Metode ini memanfaatkan perhitungan jarak untuk menemukan titik data yang memiliki perbedaan signifikan dibandingkan sebagian besar data lainnya. Meskipun memiliki kelebihan seperti fleksibilitas dan kemudahan implementasi, KNN juga memiliki beberapa kekurangan, terutama dalam hal efisiensi komputasi serta pemilihan parameter yang tepat. Oleh karena itu, penting untuk memahami karakteristik dataset sebelum memilih KNN sebagai metode deteksi outlier.\n",
        "\n",
        "Dalam praktiknya, KNN sering dikombinasikan dengan teknik lain, seperti visualisasi data (misalnya scatter plot atau box plot), untuk memverifikasi hasil deteksi outlier dan memastikan kualitas data yang lebih baik sebelum melanjutkan ke tahap pemodelan."
      ],
      "metadata": {
        "id": "tT8hAT_9C9xh"
      }
    },
    {
      "cell_type": "code",
      "source": [
        "%pip install pymysql\n",
        "%pip install psycopg2"
      ],
      "metadata": {
        "colab": {
          "base_uri": "https://localhost:8080/"
        },
        "id": "qyOZ5suoEteW",
        "outputId": "ead52537-6976-4122-cb68-12978c74099f"
      },
      "execution_count": 1,
      "outputs": [
        {
          "output_type": "stream",
          "name": "stdout",
          "text": [
            "Collecting pymysql\n",
            "  Downloading PyMySQL-1.1.1-py3-none-any.whl.metadata (4.4 kB)\n",
            "Downloading PyMySQL-1.1.1-py3-none-any.whl (44 kB)\n",
            "\u001b[?25l   \u001b[90m━━━━━━━━━━━━━━━━━━━━━━━━━━━━━━━━━━━━━━━━\u001b[0m \u001b[32m0.0/45.0 kB\u001b[0m \u001b[31m?\u001b[0m eta \u001b[36m-:--:--\u001b[0m\r\u001b[2K   \u001b[90m━━━━━━━━━━━━━━━━━━━━━━━━━━━━━━━━━━━━━━━━\u001b[0m \u001b[32m45.0/45.0 kB\u001b[0m \u001b[31m2.3 MB/s\u001b[0m eta \u001b[36m0:00:00\u001b[0m\n",
            "\u001b[?25hInstalling collected packages: pymysql\n",
            "Successfully installed pymysql-1.1.1\n",
            "Requirement already satisfied: psycopg2 in /usr/local/lib/python3.11/dist-packages (2.9.10)\n"
          ]
        }
      ]
    },
    {
      "cell_type": "markdown",
      "source": [
        "#### Melakukan Analisis Data dan Koneksi Database"
      ],
      "metadata": {
        "id": "wvMNTpYxsFwo"
      }
    },
    {
      "cell_type": "code",
      "source": [
        "import psycopg2\n",
        "import pymysql\n",
        "import numpy as np\n",
        "import pandas as pd\n",
        "import seaborn as sns\n",
        "import matplotlib.pyplot as plt\n",
        "from scipy.spatial.distance import euclidean\n",
        "from sklearn.neighbors import NearestNeighbors"
      ],
      "metadata": {
        "id": "EurRT-QMrjWd"
      },
      "execution_count": 2,
      "outputs": []
    },
    {
      "cell_type": "markdown",
      "source": [
        "#### Proses pengambilan data dari postgreSQL ke DataFrame Pandas dengan code di bawah ini :"
      ],
      "metadata": {
        "id": "aoVXWUmdsYbe"
      }
    },
    {
      "cell_type": "code",
      "source": [
        "def get_pg_data():\n",
        "    conn = psycopg2.connect(\n",
        "        host=\"pg-349c0f6d-posgresqlsilvia.i.aivencloud.com\",\n",
        "        user=\"avnadmin\",\n",
        "        password=\"AVNS_EribuBMoRkDuBfKtYVP\",\n",
        "        database=\"defaultdb\",\n",
        "        port=16412\n",
        "    )\n",
        "    cursor = conn.cursor()\n",
        "    cursor.execute(\"SELECT * FROM iris_postgresql\")\n",
        "    data = cursor.fetchall()\n",
        "    columns = [desc[0] for desc in cursor.description]\n",
        "    cursor.close()\n",
        "    conn.close()\n",
        "    return pd.DataFrame(data, columns=columns)"
      ],
      "metadata": {
        "id": "iJztUXUArwox"
      },
      "execution_count": 3,
      "outputs": []
    },
    {
      "cell_type": "markdown",
      "source": [
        "#### Proses pengambilan data dari MySQL ke DataFrame Pandas dengan code di bawah ini :"
      ],
      "metadata": {
        "id": "cFpkxwj2stdn"
      }
    },
    {
      "cell_type": "code",
      "source": [
        "def get_mysql_data():\n",
        "    conn = pymysql.connect(\n",
        "        host=\"mysql-397b65f2-posgresqlsilvia.g.aivencloud.com\",\n",
        "        user=\"avnadmin\",\n",
        "        password=\"AVNS_TZ0J8yRi7GrNiHAIr19\",\n",
        "        database=\"defaultdb\",\n",
        "        port=16412\n",
        "    )\n",
        "    cursor = conn.cursor()\n",
        "    cursor.execute(\"SELECT * FROM irismysql\")\n",
        "    data = cursor.fetchall()\n",
        "    columns = [desc[0] for desc in cursor.description]\n",
        "    cursor.close()\n",
        "    conn.close()\n",
        "    return pd.DataFrame(data, columns=columns)"
      ],
      "metadata": {
        "id": "ScgxJa1-r8H7"
      },
      "execution_count": 4,
      "outputs": []
    },
    {
      "cell_type": "markdown",
      "source": [
        "#### Deteksi Outlier dengan KNN"
      ],
      "metadata": {
        "id": "mHPVhyb1l2Lb"
      }
    },
    {
      "cell_type": "code",
      "execution_count": 5,
      "metadata": {
        "colab": {
          "base_uri": "https://localhost:8080/",
          "height": 1000
        },
        "id": "N4rl4x1dC6ot",
        "outputId": "99ce306f-fc49-41cd-bb6f-f574d1cc6af7"
      },
      "outputs": [
        {
          "output_type": "stream",
          "name": "stdout",
          "text": [
            " id           class  petal_length  petal_width  sepal_length  sepal_width  knn_distance  outlier\n",
            "  1     Iris-setosa           1.4          0.2           5.1          3.5      0.133137    False\n",
            "  2     Iris-setosa          14.0          2.0          40.9         30.0     43.258305     True\n",
            "  3     Iris-setosa           1.3          0.2           4.7          3.2      0.236019    False\n",
            "  4     Iris-setosa           1.5          0.2           4.6          3.1      0.209551    False\n",
            "  5     Iris-setosa           1.4          0.2           5.0          3.6      0.191277    False\n",
            "  6     Iris-setosa           1.7          0.4           5.4          3.9      0.360018    False\n",
            "  7     Iris-setosa           1.4          0.3           4.6          3.4      0.284127    False\n",
            "  8     Iris-setosa           1.5          0.2           5.0          3.4      0.167647    False\n",
            "  9     Iris-setosa           1.4          0.2           4.4          2.9      0.292923    False\n",
            " 10     Iris-setosa           1.5          0.1           4.9          3.1      0.109282    False\n",
            " 11     Iris-setosa           1.5          0.2           5.4          3.7      0.269234    False\n",
            " 12     Iris-setosa           1.6          0.2           4.8          3.4      0.266011    False\n",
            " 13     Iris-setosa           1.4          0.1           4.8          3.0      0.192913    False\n",
            " 14     Iris-setosa           1.1          0.1           4.3          3.0      0.377434    False\n",
            " 15     Iris-setosa           1.2          0.2           5.8          4.0      0.513789    False\n",
            " 16     Iris-setosa           1.5          0.4           5.7          4.4      0.556295    False\n",
            " 17     Iris-setosa           1.3          0.4           5.4          3.9      0.376312    False\n",
            " 18     Iris-setosa           1.4          0.3           5.1          3.5      0.152207    False\n",
            " 19     Iris-setosa           1.7          0.3           5.7          3.8      0.443504    False\n",
            " 20     Iris-setosa           1.5          0.3           5.1          3.8      0.221719    False\n",
            " 21     Iris-setosa           1.7          0.2           5.4          3.4      0.332902    False\n",
            " 22     Iris-setosa           1.5          0.4           5.1          3.7      0.235747    False\n",
            " 23     Iris-setosa           1.0          0.2           4.6          3.6      0.518395    False\n",
            " 24     Iris-setosa           1.7          0.5           5.1          3.3      0.322668    False\n",
            " 25     Iris-setosa           1.9          0.2           4.8          3.4      0.391591    False\n",
            " 26     Iris-setosa           1.6          0.2           5.0          3.0      0.224721    False\n",
            " 27     Iris-setosa           1.6          0.4           5.0          3.4      0.231348    False\n",
            " 28     Iris-setosa           1.5          0.2           5.2          3.5      0.164215    False\n",
            " 29     Iris-setosa           1.4          0.2           5.2          3.4      0.164215    False\n",
            " 30     Iris-setosa           1.6          0.2           4.7          3.2      0.205283    False\n",
            " 31     Iris-setosa           1.6          0.2           4.8          3.1      0.176929    False\n",
            " 32     Iris-setosa           1.5          0.4           5.4          3.4      0.309096    False\n",
            " 33     Iris-setosa           1.5          0.1           5.2          4.1      0.389902    False\n",
            " 34     Iris-setosa           1.4          0.2           5.5          4.2      0.397231    False\n",
            " 35     Iris-setosa           1.5          0.1           4.9          3.1      0.109282    False\n",
            " 36     Iris-setosa           1.2          0.2           5.0          3.2      0.312863    False\n",
            " 37     Iris-setosa           1.3          0.2           5.5          3.5      0.330971    False\n",
            " 38     Iris-setosa           1.5          0.1           4.9          3.1      0.109282    False\n",
            " 39     Iris-setosa           1.3          0.2           4.4          3.0      0.237274    False\n",
            " 40     Iris-setosa           1.5          0.2           5.1          3.4      0.139494    False\n",
            " 41     Iris-setosa           1.3          0.3           5.0          3.5      0.195546    False\n",
            " 42     Iris-setosa           1.3          0.3           4.5          2.3      0.736302     True\n",
            " 43     Iris-setosa           1.3          0.2           4.4          3.2      0.267967    False\n",
            " 44     Iris-setosa           1.6          0.6           5.0          3.5      0.320568    False\n",
            " 45     Iris-setosa           1.9          0.4           5.1          3.8      0.407785    False\n",
            " 46     Iris-setosa           1.4          0.3           4.8          3.0      0.247735    False\n",
            " 47     Iris-setosa           1.6          0.2           5.1          3.8      0.252596    False\n",
            " 48     Iris-setosa           1.4          0.2           4.6          3.2      0.190733    False\n",
            " 49     Iris-setosa           1.5          0.2           5.3          3.7      0.219269    False\n",
            " 50     Iris-setosa           1.4          0.2           5.0          3.3      0.197089    False\n",
            " 51 Iris-versicolor           4.7          1.4           7.0          3.2      0.402000    False\n",
            " 52 Iris-versicolor           4.5          1.5           6.4          3.2      0.337735    False\n",
            " 53 Iris-versicolor           4.9          1.5           6.9          3.1      0.343992    False\n",
            " 54 Iris-versicolor           4.0          1.3           5.5          2.3      0.337602    False\n",
            " 55 Iris-versicolor           4.6          1.5           6.5          2.8      0.339361    False\n",
            " 56 Iris-versicolor           4.5          1.3           5.7          2.8      0.327657    False\n",
            " 57 Iris-versicolor           4.7          1.6           6.3          3.3      0.395904    False\n",
            " 58 Iris-versicolor           3.3          1.0           4.9          2.4      0.499098    False\n",
            " 59 Iris-versicolor           4.6          1.3           6.6          2.9      0.287716    False\n",
            " 60 Iris-versicolor           3.9          1.4           5.2          2.7      0.496896    False\n",
            " 61 Iris-versicolor           3.5          1.0           5.0          2.0      0.584977    False\n",
            " 62 Iris-versicolor           4.2          1.5           5.9          3.0      0.345388    False\n",
            " 63 Iris-versicolor           4.0          1.0           6.0          2.2      0.544685    False\n",
            " 64 Iris-versicolor           4.7          1.4           6.1          2.9      0.294026    False\n",
            " 65 Iris-versicolor           3.6          1.3           5.6          2.9      0.487902    False\n",
            " 66 Iris-versicolor           4.4          1.4           6.7          3.1      0.301517    False\n",
            " 67 Iris-versicolor           4.5          1.5           5.6          3.0      0.344775    False\n",
            " 68 Iris-versicolor           4.1          1.0           5.8          2.7      0.318835    False\n",
            " 69 Iris-versicolor           4.5          1.5           6.2          2.2      0.539667    False\n",
            " 70 Iris-versicolor           3.9          1.1           5.6          2.5      0.249461    False\n",
            " 71 Iris-versicolor           4.8          1.8           5.9          3.2      0.355494    False\n",
            " 72 Iris-versicolor           4.0          1.3           6.1          2.8      0.372910    False\n",
            " 73 Iris-versicolor           4.9          1.5           6.3          2.5      0.398715    False\n",
            " 74 Iris-versicolor           4.7          1.2           6.1          2.8      0.361011    False\n",
            " 75 Iris-versicolor           4.3          1.3           6.4          2.9      0.319945    False\n",
            " 76 Iris-versicolor           4.4          1.4           6.6          3.0      0.256680    False\n",
            " 77 Iris-versicolor           4.8          1.4           6.8          2.8      0.361496    False\n",
            " 78 Iris-versicolor           5.0          1.7           6.7          3.0      0.390246    False\n",
            " 79 Iris-versicolor           4.5          1.5           6.0          2.9      0.299437    False\n",
            " 80 Iris-versicolor           3.5          1.0           5.7          2.6      0.424564    False\n",
            " 81 Iris-versicolor           3.8          1.1           5.5          2.4      0.267778    False\n",
            " 82 Iris-versicolor           3.7          1.0           5.5          2.4      0.324837    False\n",
            " 83 Iris-versicolor           3.9          1.2           5.8          2.7      0.267050    False\n",
            " 84 Iris-versicolor           5.1          1.6           6.0          2.7      0.367850    False\n",
            " 85 Iris-versicolor           4.5          1.5           5.4          3.0      0.418339    False\n",
            " 86 Iris-versicolor           4.5          1.6           6.0          3.4      0.447126    False\n",
            " 87 Iris-versicolor           4.7          1.5           6.7          3.1      0.318674    False\n",
            " 88 Iris-versicolor           4.4          1.3           6.3          2.3      0.531071    False\n",
            " 89 Iris-versicolor           4.1          1.3           5.6          3.0      0.252082    False\n",
            " 90 Iris-versicolor           4.0          1.3           5.5          2.5      0.275322    False\n",
            " 91 Iris-versicolor           4.4          1.2           5.5          2.6      0.370719    False\n",
            " 92 Iris-versicolor           4.6          1.4           6.1          3.0      0.275026    False\n",
            " 93 Iris-versicolor           4.0          1.2           5.8          2.6      0.246350    False\n",
            " 94 Iris-versicolor           3.3          1.0           5.0          2.3      0.451692    False\n",
            " 95 Iris-versicolor           4.2          1.3           5.6          2.7      0.255523    False\n",
            " 96 Iris-versicolor           4.2          1.2           5.7          3.0      0.250359    False\n",
            " 97 Iris-versicolor           4.2          1.3           5.7          2.9      0.195931    False\n",
            " 98 Iris-versicolor           4.3          1.3           6.2          2.9      0.322356    False\n",
            " 99 Iris-versicolor           3.0          1.1           5.1          2.5      0.621594    False\n",
            "100 Iris-versicolor           4.1          1.3           5.7          2.8      0.209551    False\n",
            "101  Iris-virginica           6.0          2.5           6.3          3.3      0.519844    False\n",
            "102  Iris-virginica           5.1          1.9           5.8          2.7      0.254604    False\n",
            "103  Iris-virginica           5.9          2.1           7.1          3.0      0.431573    False\n",
            "104  Iris-virginica           5.6          1.8           6.3          2.9      0.326625    False\n",
            "105  Iris-virginica           5.8          2.2           6.5          3.0      0.350276    False\n",
            "106  Iris-virginica           6.6          2.1           7.6          3.0      0.499489    False\n",
            "107  Iris-virginica           4.5          1.7           4.9          2.5      0.810164     True\n",
            "108  Iris-virginica           6.3          1.8           7.3          2.9      0.466823    False\n",
            "109  Iris-virginica           5.8          1.8           6.7          2.5      0.602832    False\n",
            "110  Iris-virginica           6.1          2.5           7.2          3.6      0.714318     True\n",
            "111  Iris-virginica           5.1          2.0           6.5          3.2      0.383068    False\n",
            "112  Iris-virginica           5.3          1.9           6.4          2.7      0.373868    False\n",
            "113  Iris-virginica           5.5          2.1           6.8          3.0      0.325700    False\n",
            "114  Iris-virginica           5.0          2.0           5.7          2.5      0.385630    False\n",
            "115  Iris-virginica           5.1          2.4           5.8          2.8      0.533926    False\n",
            "116  Iris-virginica           5.3          2.3           6.4          3.2      0.364586    False\n",
            "117  Iris-virginica           5.5          1.8           6.5          3.0      0.304304    False\n",
            "118  Iris-virginica           6.7          2.2           7.7          3.8      0.823174     True\n",
            "119  Iris-virginica           6.9          2.3           7.7          2.6      0.749237     True\n",
            "120  Iris-virginica           5.0          1.5           6.0          2.2      0.546572    False\n",
            "121  Iris-virginica           5.7          2.3           6.9          3.2      0.289747    False\n",
            "122  Iris-virginica           4.9          2.0           5.6          2.8      0.382455    False\n",
            "123  Iris-virginica           6.7          2.0           7.7          2.8      0.532679    False\n",
            "124  Iris-virginica           4.9          1.8           6.3          2.7      0.302686    False\n",
            "125  Iris-virginica           5.7          2.1           6.7          3.3      0.350372    False\n",
            "126  Iris-virginica           6.0          1.8           7.2          3.2      0.457343    False\n",
            "127  Iris-virginica           4.8          1.8           6.2          2.8      0.302512    False\n",
            "128  Iris-virginica           4.9          1.8           6.1          3.0      0.265954    False\n",
            "129  Iris-virginica           5.6          2.1           6.4          2.8      0.301871    False\n",
            "130  Iris-virginica           5.8          1.6           7.2          3.0      0.527962    False\n",
            "131  Iris-virginica           6.1          1.9           7.4          2.8      0.448059    False\n",
            "132  Iris-virginica           6.4          2.0           7.9          3.8      0.836056     True\n",
            "133  Iris-virginica           5.6          2.2           6.4          2.8      0.345839    False\n",
            "134  Iris-virginica           5.1          1.5           6.3          2.8      0.392106    False\n",
            "135  Iris-virginica           5.6          1.4           6.1          2.6      0.608343    False\n",
            "136  Iris-virginica           6.1          2.3           7.7          3.0      0.625559    False\n",
            "137  Iris-virginica           5.6          2.4           6.3          3.4      0.398480    False\n",
            "138  Iris-virginica           5.5          1.8           6.4          3.1      0.333563    False\n",
            "139  Iris-virginica           4.8          1.8           6.0          3.0      0.279998    False\n",
            "140  Iris-virginica           5.4          2.1           6.9          3.1      0.336158    False\n",
            "141  Iris-virginica           5.6          2.4           6.7          3.1      0.312580    False\n",
            "142  Iris-virginica           5.1          2.3           6.9          3.1      0.420813    False\n",
            "143  Iris-virginica           5.1          1.9           5.8          2.7      0.254604    False\n",
            "144  Iris-virginica           5.9          2.3           6.8          3.2      0.317954    False\n",
            "145  Iris-virginica           5.7          2.5           6.7          3.3      0.339413    False\n",
            "146  Iris-virginica           5.2          2.3           6.7          3.0      0.342878    False\n",
            "147  Iris-virginica           5.0          1.9           6.3          2.5      0.379661    False\n",
            "148  Iris-virginica           5.2          2.0           6.5          3.0      0.335685    False\n",
            "149  Iris-virginica           5.4          2.3           6.2          3.4      0.468533    False\n",
            "150  Iris-virginica           5.1          1.8           5.9          3.0      0.324590    False\n",
            "151             ???           5.1          3.2           5.8          1.0      2.035647     True\n"
          ]
        },
        {
          "output_type": "display_data",
          "data": {
            "text/plain": [
              "<Figure size 800x600 with 1 Axes>"
            ],
            "image/png": "[encoded data removed]"
          },
          "metadata": {}
        },
        {
          "output_type": "display_data",
          "data": {
            "text/plain": [
              "<Figure size 800x600 with 1 Axes>"
            ],
            "image/png": "[encoded data removed]"
          },
          "metadata": {}
        }
      ],
      "source": [
        "# Ambil data dari kedua database\n",
        "df_postgresql = get_pg_data()\n",
        "df_mysql = get_mysql_data()\n",
        "\n",
        "# Gabungkan berdasarkan kolom 'id' dan 'Class'\n",
        "df_merged = pd.merge(df_mysql, df_postgresql, on=[\"id\", \"class\"], how=\"inner\")\n",
        "\n",
        "# Ambil data fitur numerik\n",
        "feature_columns = [\"petal_length\", \"petal_width\", \"sepal_length\", \"sepal_width\"]\n",
        "data_values = df_merged[feature_columns].values\n",
        "\n",
        "# Gunakan KNN untuk mendeteksi outlier\n",
        "K = 5  # Jumlah tetangga terdekat\n",
        "nbrs = NearestNeighbors(n_neighbors=K+1, metric='euclidean').fit(data_values)\n",
        "distances, indices = nbrs.kneighbors(data_values)\n",
        "\n",
        "# Ambil rata-rata jarak ke K tetangga terdekat (tidak termasuk jarak ke dirinya sendiri)\n",
        "df_merged[\"knn_distance\"] = np.mean(distances[:, 1:], axis=1)\n",
        "\n",
        "# Tentukan threshold outlier berdasarkan persentil ke-95\n",
        "threshold = np.percentile(df_merged[\"knn_distance\"], 95)\n",
        "df_merged[\"outlier\"] = df_merged[\"knn_distance\"] > threshold\n",
        "\n",
        "# Cetak hasil data dengan outlier\n",
        "print(df_merged.to_string(index=False))\n",
        "\n",
        "# Visualisasi scatter plot dengan warna berdasarkan outlier\n",
        "plt.figure(figsize=(8, 6))\n",
        "sns.scatterplot(\n",
        "    x=df_merged[\"sepal_length\"], y=df_merged[\"sepal_width\"],\n",
        "    hue=df_merged[\"outlier\"], palette={False: \"blue\", True: \"red\"}\n",
        ")\n",
        "plt.title(\"Outlier Detection with KNN (Sepal)\")\n",
        "plt.show()\n",
        "\n",
        "plt.figure(figsize=(8, 6))\n",
        "sns.scatterplot(\n",
        "    x=df_merged[\"petal_length\"], y=df_merged[\"petal_width\"],\n",
        "    hue=df_merged[\"outlier\"], palette={False: \"blue\", True: \"red\"}\n",
        ")\n",
        "plt.title(\"Outlier Detection with KNN (Petal)\")\n",
        "plt.show()"
      ]
    },
    {
      "cell_type": "markdown",
      "source": [
        "#### Total outlier"
      ],
      "metadata": {
        "id": "nRKkGE2HmECP"
      }
    },
    {
      "cell_type": "code",
      "source": [
        "# Hitung total outlier\n",
        "total_outliers = df_merged[\"outlier\"].sum()\n",
        "print(f\"Total Outlier: {total_outliers}\")\n"
      ],
      "metadata": {
        "colab": {
          "base_uri": "https://localhost:8080/"
        },
        "id": "PQJtqeGePMHd",
        "outputId": "3f040203-0a7b-4d11-c862-7005b0da7e7b"
      },
      "execution_count": 6,
      "outputs": [
        {
          "output_type": "stream",
          "name": "stdout",
          "text": [
            "Total Outlier: 8\n"
          ]
        }
      ]
    },
    {
      "cell_type": "code",
      "source": [
        "# Menyaring data yang terdeteksi sebagai outlier\n",
        "# Kemudian mengurutkannya berdasarkan nilai \"knn_distance\" dari yang terbesar\n",
        "outliers = df_merged[df_merged[\"outlier\"]].sort_values(by=\"knn_distance\", ascending=False)\n",
        "\n",
        "# Menampilkan daftar outlier teratas dalam format yang lebih rapi\n",
        "print(\"Outlier Teratas:\")\n",
        "print(outliers.to_string(index=False))"
      ],
      "metadata": {
        "colab": {
          "base_uri": "https://localhost:8080/"
        },
        "id": "hQxT5LweT5PU",
        "outputId": "0f9afaaa-b030-401c-c99d-e15019a4f298"
      },
      "execution_count": 7,
      "outputs": [
        {
          "output_type": "stream",
          "name": "stdout",
          "text": [
            "Outlier Teratas:\n",
            " id          class  petal_length  petal_width  sepal_length  sepal_width  knn_distance  outlier\n",
            "  2    Iris-setosa          14.0          2.0          40.9         30.0     43.258305     True\n",
            "151            ???           5.1          3.2           5.8          1.0      2.035647     True\n",
            "132 Iris-virginica           6.4          2.0           7.9          3.8      0.836056     True\n",
            "118 Iris-virginica           6.7          2.2           7.7          3.8      0.823174     True\n",
            "107 Iris-virginica           4.5          1.7           4.9          2.5      0.810164     True\n",
            "119 Iris-virginica           6.9          2.3           7.7          2.6      0.749237     True\n",
            " 42    Iris-setosa           1.3          0.3           4.5          2.3      0.736302     True\n",
            "110 Iris-virginica           6.1          2.5           7.2          3.6      0.714318     True\n"
          ]
        }
      ]
    },
    {
      "cell_type": "code",
      "source": [
        "# Urutkan data berdasarkan jarak dari terkecil ke terbesar\n",
        "df_sorted = df_merged.sort_values(by=\"knn_distance\", ascending=True)\n",
        "\n",
        "# Tampilkan hasilnya\n",
        "print(df_sorted.to_string(index=False))"
      ],
      "metadata": {
        "colab": {
          "base_uri": "https://localhost:8080/"
        },
        "id": "X9DQl0c5cLAG",
        "outputId": "32f7085b-4d47-4e3f-ee79-87a6f61985bf"
      },
      "execution_count": null,
      "outputs": [
        {
          "output_type": "stream",
          "name": "stdout",
          "text": [
            " id           class  petal_length  petal_width  sepal_length  sepal_width  knn_distance  outlier\n",
            " 35     Iris-setosa           1.5          0.1           4.9          3.1      0.109282    False\n",
            " 38     Iris-setosa           1.5          0.1           4.9          3.1      0.109282    False\n",
            " 10     Iris-setosa           1.5          0.1           4.9          3.1      0.109282    False\n",
            "  1     Iris-setosa           1.4          0.2           5.1          3.5      0.133137    False\n",
            " 40     Iris-setosa           1.5          0.2           5.1          3.4      0.139494    False\n",
            " 18     Iris-setosa           1.4          0.3           5.1          3.5      0.152207    False\n",
            " 28     Iris-setosa           1.5          0.2           5.2          3.5      0.164215    False\n",
            " 29     Iris-setosa           1.4          0.2           5.2          3.4      0.164215    False\n",
            "  8     Iris-setosa           1.5          0.2           5.0          3.4      0.167647    False\n",
            " 31     Iris-setosa           1.6          0.2           4.8          3.1      0.176929    False\n",
            " 48     Iris-setosa           1.4          0.2           4.6          3.2      0.190733    False\n",
            "  5     Iris-setosa           1.4          0.2           5.0          3.6      0.191277    False\n",
            " 13     Iris-setosa           1.4          0.1           4.8          3.0      0.192913    False\n",
            " 41     Iris-setosa           1.3          0.3           5.0          3.5      0.195546    False\n",
            " 97 Iris-versicolor           4.2          1.3           5.7          2.9      0.195931    False\n",
            " 50     Iris-setosa           1.4          0.2           5.0          3.3      0.197089    False\n",
            " 30     Iris-setosa           1.6          0.2           4.7          3.2      0.205283    False\n",
            "  4     Iris-setosa           1.5          0.2           4.6          3.1      0.209551    False\n",
            "100 Iris-versicolor           4.1          1.3           5.7          2.8      0.209551    False\n",
            " 49     Iris-setosa           1.5          0.2           5.3          3.7      0.219269    False\n",
            " 20     Iris-setosa           1.5          0.3           5.1          3.8      0.221719    False\n",
            " 26     Iris-setosa           1.6          0.2           5.0          3.0      0.224721    False\n",
            " 27     Iris-setosa           1.6          0.4           5.0          3.4      0.231348    False\n",
            " 22     Iris-setosa           1.5          0.4           5.1          3.7      0.235747    False\n",
            "  3     Iris-setosa           1.3          0.2           4.7          3.2      0.236019    False\n",
            " 39     Iris-setosa           1.3          0.2           4.4          3.0      0.237274    False\n",
            " 93 Iris-versicolor           4.0          1.2           5.8          2.6      0.246350    False\n",
            " 46     Iris-setosa           1.4          0.3           4.8          3.0      0.247735    False\n",
            " 70 Iris-versicolor           3.9          1.1           5.6          2.5      0.249461    False\n",
            " 96 Iris-versicolor           4.2          1.2           5.7          3.0      0.250359    False\n",
            " 89 Iris-versicolor           4.1          1.3           5.6          3.0      0.252082    False\n",
            " 47     Iris-setosa           1.6          0.2           5.1          3.8      0.252596    False\n",
            "143  Iris-virginica           5.1          1.9           5.8          2.7      0.254604    False\n",
            "102  Iris-virginica           5.1          1.9           5.8          2.7      0.254604    False\n",
            " 95 Iris-versicolor           4.2          1.3           5.6          2.7      0.255523    False\n",
            " 76 Iris-versicolor           4.4          1.4           6.6          3.0      0.256680    False\n",
            "128  Iris-virginica           4.9          1.8           6.1          3.0      0.265954    False\n",
            " 12     Iris-setosa           1.6          0.2           4.8          3.4      0.266011    False\n",
            " 83 Iris-versicolor           3.9          1.2           5.8          2.7      0.267050    False\n",
            " 81 Iris-versicolor           3.8          1.1           5.5          2.4      0.267778    False\n",
            " 43     Iris-setosa           1.3          0.2           4.4          3.2      0.267967    False\n",
            " 11     Iris-setosa           1.5          0.2           5.4          3.7      0.269234    False\n",
            " 92 Iris-versicolor           4.6          1.4           6.1          3.0      0.275026    False\n",
            " 90 Iris-versicolor           4.0          1.3           5.5          2.5      0.275322    False\n",
            "139  Iris-virginica           4.8          1.8           6.0          3.0      0.279998    False\n",
            "  7     Iris-setosa           1.4          0.3           4.6          3.4      0.284127    False\n",
            " 59 Iris-versicolor           4.6          1.3           6.6          2.9      0.287716    False\n",
            "121  Iris-virginica           5.7          2.3           6.9          3.2      0.289747    False\n",
            "  9     Iris-setosa           1.4          0.2           4.4          2.9      0.292923    False\n",
            " 64 Iris-versicolor           4.7          1.4           6.1          2.9      0.294026    False\n",
            " 79 Iris-versicolor           4.5          1.5           6.0          2.9      0.299437    False\n",
            " 66 Iris-versicolor           4.4          1.4           6.7          3.1      0.301517    False\n",
            "129  Iris-virginica           5.6          2.1           6.4          2.8      0.301871    False\n",
            "127  Iris-virginica           4.8          1.8           6.2          2.8      0.302512    False\n",
            "124  Iris-virginica           4.9          1.8           6.3          2.7      0.302686    False\n",
            "117  Iris-virginica           5.5          1.8           6.5          3.0      0.304304    False\n",
            " 32     Iris-setosa           1.5          0.4           5.4          3.4      0.309096    False\n",
            "141  Iris-virginica           5.6          2.4           6.7          3.1      0.312580    False\n",
            " 36     Iris-setosa           1.2          0.2           5.0          3.2      0.312863    False\n",
            "144  Iris-virginica           5.9          2.3           6.8          3.2      0.317954    False\n",
            " 87 Iris-versicolor           4.7          1.5           6.7          3.1      0.318674    False\n",
            " 68 Iris-versicolor           4.1          1.0           5.8          2.7      0.318835    False\n",
            " 75 Iris-versicolor           4.3          1.3           6.4          2.9      0.319945    False\n",
            " 44     Iris-setosa           1.6          0.6           5.0          3.5      0.320568    False\n",
            " 98 Iris-versicolor           4.3          1.3           6.2          2.9      0.322356    False\n",
            " 24     Iris-setosa           1.7          0.5           5.1          3.3      0.322668    False\n",
            "150  Iris-virginica           5.1          1.8           5.9          3.0      0.324590    False\n",
            " 82 Iris-versicolor           3.7          1.0           5.5          2.4      0.324837    False\n",
            "113  Iris-virginica           5.5          2.1           6.8          3.0      0.325700    False\n",
            "104  Iris-virginica           5.6          1.8           6.3          2.9      0.326625    False\n",
            " 56 Iris-versicolor           4.5          1.3           5.7          2.8      0.327657    False\n",
            " 37     Iris-setosa           1.3          0.2           5.5          3.5      0.330971    False\n",
            " 21     Iris-setosa           1.7          0.2           5.4          3.4      0.332902    False\n",
            "138  Iris-virginica           5.5          1.8           6.4          3.1      0.333563    False\n",
            "148  Iris-virginica           5.2          2.0           6.5          3.0      0.335685    False\n",
            "140  Iris-virginica           5.4          2.1           6.9          3.1      0.336158    False\n",
            " 54 Iris-versicolor           4.0          1.3           5.5          2.3      0.337602    False\n",
            " 52 Iris-versicolor           4.5          1.5           6.4          3.2      0.337735    False\n",
            " 55 Iris-versicolor           4.6          1.5           6.5          2.8      0.339361    False\n",
            "145  Iris-virginica           5.7          2.5           6.7          3.3      0.339413    False\n",
            "146  Iris-virginica           5.2          2.3           6.7          3.0      0.342878    False\n",
            " 53 Iris-versicolor           4.9          1.5           6.9          3.1      0.343992    False\n",
            " 67 Iris-versicolor           4.5          1.5           5.6          3.0      0.344775    False\n",
            " 62 Iris-versicolor           4.2          1.5           5.9          3.0      0.345388    False\n",
            "133  Iris-virginica           5.6          2.2           6.4          2.8      0.345839    False\n",
            "105  Iris-virginica           5.8          2.2           6.5          3.0      0.350276    False\n",
            "125  Iris-virginica           5.7          2.1           6.7          3.3      0.350372    False\n",
            " 71 Iris-versicolor           4.8          1.8           5.9          3.2      0.355494    False\n",
            "  6     Iris-setosa           1.7          0.4           5.4          3.9      0.360018    False\n",
            " 74 Iris-versicolor           4.7          1.2           6.1          2.8      0.361011    False\n",
            " 77 Iris-versicolor           4.8          1.4           6.8          2.8      0.361496    False\n",
            "116  Iris-virginica           5.3          2.3           6.4          3.2      0.364586    False\n",
            " 84 Iris-versicolor           5.1          1.6           6.0          2.7      0.367850    False\n",
            " 91 Iris-versicolor           4.4          1.2           5.5          2.6      0.370719    False\n",
            " 72 Iris-versicolor           4.0          1.3           6.1          2.8      0.372910    False\n",
            "112  Iris-virginica           5.3          1.9           6.4          2.7      0.373868    False\n",
            " 17     Iris-setosa           1.3          0.4           5.4          3.9      0.376312    False\n",
            " 14     Iris-setosa           1.1          0.1           4.3          3.0      0.377434    False\n",
            "147  Iris-virginica           5.0          1.9           6.3          2.5      0.379661    False\n",
            "122  Iris-virginica           4.9          2.0           5.6          2.8      0.382455    False\n",
            "111  Iris-virginica           5.1          2.0           6.5          3.2      0.383068    False\n",
            "114  Iris-virginica           5.0          2.0           5.7          2.5      0.385630    False\n",
            " 33     Iris-setosa           1.5          0.1           5.2          4.1      0.389902    False\n",
            " 78 Iris-versicolor           5.0          1.7           6.7          3.0      0.390246    False\n",
            " 25     Iris-setosa           1.9          0.2           4.8          3.4      0.391591    False\n",
            "134  Iris-virginica           5.1          1.5           6.3          2.8      0.392106    False\n",
            " 57 Iris-versicolor           4.7          1.6           6.3          3.3      0.395904    False\n",
            " 34     Iris-setosa           1.4          0.2           5.5          4.2      0.397231    False\n",
            "137  Iris-virginica           5.6          2.4           6.3          3.4      0.398480    False\n",
            " 73 Iris-versicolor           4.9          1.5           6.3          2.5      0.398715    False\n",
            " 51 Iris-versicolor           4.7          1.4           7.0          3.2      0.402000    False\n",
            " 45     Iris-setosa           1.9          0.4           5.1          3.8      0.407785    False\n",
            " 85 Iris-versicolor           4.5          1.5           5.4          3.0      0.418339    False\n",
            "142  Iris-virginica           5.1          2.3           6.9          3.1      0.420813    False\n",
            " 80 Iris-versicolor           3.5          1.0           5.7          2.6      0.424564    False\n",
            "103  Iris-virginica           5.9          2.1           7.1          3.0      0.431573    False\n",
            " 19     Iris-setosa           1.7          0.3           5.7          3.8      0.443504    False\n",
            " 86 Iris-versicolor           4.5          1.6           6.0          3.4      0.447126    False\n",
            "131  Iris-virginica           6.1          1.9           7.4          2.8      0.448059    False\n",
            " 94 Iris-versicolor           3.3          1.0           5.0          2.3      0.451692    False\n",
            "126  Iris-virginica           6.0          1.8           7.2          3.2      0.457343    False\n",
            "108  Iris-virginica           6.3          1.8           7.3          2.9      0.466823    False\n",
            "149  Iris-virginica           5.4          2.3           6.2          3.4      0.468533    False\n",
            " 65 Iris-versicolor           3.6          1.3           5.6          2.9      0.487902    False\n",
            " 60 Iris-versicolor           3.9          1.4           5.2          2.7      0.496896    False\n",
            " 58 Iris-versicolor           3.3          1.0           4.9          2.4      0.499098    False\n",
            "106  Iris-virginica           6.6          2.1           7.6          3.0      0.499489    False\n",
            " 15     Iris-setosa           1.2          0.2           5.8          4.0      0.513789    False\n",
            " 23     Iris-setosa           1.0          0.2           4.6          3.6      0.518395    False\n",
            "101  Iris-virginica           6.0          2.5           6.3          3.3      0.519844    False\n",
            "130  Iris-virginica           5.8          1.6           7.2          3.0      0.527962    False\n",
            " 88 Iris-versicolor           4.4          1.3           6.3          2.3      0.531071    False\n",
            "123  Iris-virginica           6.7          2.0           7.7          2.8      0.532679    False\n",
            "115  Iris-virginica           5.1          2.4           5.8          2.8      0.533926    False\n",
            " 69 Iris-versicolor           4.5          1.5           6.2          2.2      0.539667    False\n",
            " 63 Iris-versicolor           4.0          1.0           6.0          2.2      0.544685    False\n",
            "120  Iris-virginica           5.0          1.5           6.0          2.2      0.546572    False\n",
            " 16     Iris-setosa           1.5          0.4           5.7          4.4      0.556295    False\n",
            " 61 Iris-versicolor           3.5          1.0           5.0          2.0      0.584977    False\n",
            "109  Iris-virginica           5.8          1.8           6.7          2.5      0.602832    False\n",
            "135  Iris-virginica           5.6          1.4           6.1          2.6      0.608343    False\n",
            " 99 Iris-versicolor           3.0          1.1           5.1          2.5      0.621594    False\n",
            "136  Iris-virginica           6.1          2.3           7.7          3.0      0.625559    False\n",
            "110  Iris-virginica           6.1          2.5           7.2          3.6      0.714318     True\n",
            " 42     Iris-setosa           1.3          0.3           4.5          2.3      0.736302     True\n",
            "119  Iris-virginica           6.9          2.3           7.7          2.6      0.749237     True\n",
            "107  Iris-virginica           4.5          1.7           4.9          2.5      0.810164     True\n",
            "118  Iris-virginica           6.7          2.2           7.7          3.8      0.823174     True\n",
            "132  Iris-virginica           6.4          2.0           7.9          3.8      0.836056     True\n",
            "151             ???           5.1          3.2           5.8          1.0      2.035647     True\n",
            "  2     Iris-setosa          14.0          2.0          40.9         30.0     43.258305     True\n"
          ]
        }
      ]
    }
  ]
}